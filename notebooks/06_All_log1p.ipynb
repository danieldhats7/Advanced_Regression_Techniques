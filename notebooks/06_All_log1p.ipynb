{
 "cells": [
  {
   "cell_type": "code",
   "execution_count": 86,
   "metadata": {},
   "outputs": [],
   "source": [
    "import sys\n",
    "sys.path.append('../')\n",
    "import pandas as pd\n",
    "\n",
    "\n",
    "from utils.GetData import Data2\n",
    "import numpy as np\n",
    "from sklearn.model_selection import train_test_split"
   ]
  },
  {
   "cell_type": "code",
   "execution_count": 68,
   "metadata": {},
   "outputs": [],
   "source": [
    "PATH = '../in/train.csv'\n",
    "df = pd.read_csv(PATH)"
   ]
  },
  {
   "cell_type": "code",
   "execution_count": 69,
   "metadata": {},
   "outputs": [],
   "source": [
    "data = Data2()\n",
    "dfx = data.get_data2(df.copy())"
   ]
  },
  {
   "cell_type": "code",
   "execution_count": 70,
   "metadata": {},
   "outputs": [],
   "source": [
    "feature = dfx.drop('SalePrice', axis=1)\n",
    "y = dfx['SalePrice']"
   ]
  },
  {
   "cell_type": "code",
   "execution_count": 71,
   "metadata": {},
   "outputs": [
    {
     "data": {
      "text/plain": [
       "(1459, 207)"
      ]
     },
     "execution_count": 71,
     "metadata": {},
     "output_type": "execute_result"
    }
   ],
   "source": [
    "pred_example = pd.read_csv('../in/sample_submission.csv')\n",
    "test = pd.read_csv('../in/test.csv')\n",
    "test_df = data.get_data2(test.copy(), fit=False)\n",
    "test_df.shape"
   ]
  },
  {
   "cell_type": "code",
   "execution_count": 72,
   "metadata": {},
   "outputs": [],
   "source": [
    "feature['GarageYrBlt'] = feature['GarageYrBlt'].astype('float')\n",
    "test_df['GarageYrBlt'] = test_df['GarageYrBlt'].astype('float')"
   ]
  },
  {
   "cell_type": "code",
   "execution_count": 73,
   "metadata": {},
   "outputs": [],
   "source": [
    "high_skew = ['MiscVal', 'PoolArea', 'LotArea', 'LowQualFinSF', '3SsnPorch',\n",
    "       'KitchenAbvGr', 'BsmtFinSF2', 'EnclosedPorch', 'ScreenPorch',\n",
    "       'BsmtHalfBath', 'OpenPorchSF', 'WoodDeckSF', '1stFlrSF', 'BsmtFinSF1',\n",
    "       'MSSubClass', 'GrLivArea', 'TotalBsmtSF', 'BsmtUnfSF', '2ndFlrSF',\n",
    "       'TotRmsAbvGrd', 'Fireplaces', 'HalfBath', 'BsmtFullBath', 'OverallCond',\n",
    "       'YearBuilt']"
   ]
  },
  {
   "cell_type": "code",
   "execution_count": 74,
   "metadata": {},
   "outputs": [],
   "source": [
    "for ft in high_skew:\n",
    "    feature[ft] = np.log1p(feature[ft])\n",
    "\n",
    "feature['TotalSF'] = feature['TotalBsmtSF'] + feature['1stFlrSF'] + feature['2ndFlrSF']\n",
    "#feature.drop(['TotalBsmtSF', '1stFlrSF', '2ndFlrSF'], axis=1, inplace=True)"
   ]
  },
  {
   "cell_type": "code",
   "execution_count": 75,
   "metadata": {},
   "outputs": [],
   "source": [
    "for ft in high_skew:\n",
    "    test_df[ft] = np.log1p(test_df[ft])\n",
    "\n",
    "test_df['TotalSF'] = test_df['TotalBsmtSF'] + test_df['1stFlrSF'] + test_df['2ndFlrSF']\n",
    "#test_df.drop(['TotalBsmtSF', '1stFlrSF', '2ndFlrSF'], axis=1, inplace=True)"
   ]
  },
  {
   "cell_type": "code",
   "execution_count": 76,
   "metadata": {},
   "outputs": [],
   "source": [
    "y = np.log1p(y)"
   ]
  },
  {
   "cell_type": "code",
   "execution_count": 97,
   "metadata": {},
   "outputs": [],
   "source": [
    "X_train, X_valid, y_train, y_valid = train_test_split(feature, y, test_size=0.15, random_state=7)"
   ]
  },
  {
   "cell_type": "code",
   "execution_count": 98,
   "metadata": {},
   "outputs": [
    {
     "name": "stdout",
     "output_type": "stream",
     "text": [
      "[00:42:18] WARNING: C:/Users/Administrator/workspace/xgboost-win64_release_1.5.1/src/learner.cc:576: \n",
      "Parameters: { \"early_stopping_rounds\", \"eval_set\", \"verbose\" } might not be used.\n",
      "\n",
      "  This could be a false alarm, with some parameters getting used by language bindings but\n",
      "  then being mistakenly passed down to XGBoost core, or some parameter actually being used\n",
      "  but getting flagged wrongly here. Please open an issue if you find any such cases.\n",
      "\n",
      "\n"
     ]
    },
    {
     "data": {
      "text/plain": [
       "XGBRegressor(base_score=0.5, booster='gbtree', colsample_bylevel=1,\n",
       "             colsample_bynode=1, colsample_bytree=0.4603,\n",
       "             early_stopping_rounds=5, enable_categorical=False,\n",
       "             eval_set=[(      MSSubClass  LotFrontage   LotArea  LotShape  Utilities  LandSlope  \\\n",
       "606     3.044522         82.0  9.430680       1.0        3.0        1.0   \n",
       "1210    4.110874         70.0  9.325364       3.0        3.0        2.0   \n",
       "492     4.110874        105.0  9.653679       2.0        3.0        2.0   \n",
       "410     3.044522         68.0  9.166597       3.0        3.0...\n",
       "             gamma=0.0468, gpu_id=-1, importance_type=None,\n",
       "             interaction_constraints='', learning_rate=0.01, max_delta_step=0,\n",
       "             max_depth=3, min_child_weight=1.7817, missing=nan,\n",
       "             monotone_constraints='()', n_estimators=3000, n_jobs=4, nthread=-1,\n",
       "             num_parallel_tree=1, predictor='auto', random_state=7,\n",
       "             reg_alpha=0.464, reg_lambda=0.8571, scale_pos_weight=1,\n",
       "             subsample=0.5213, tree_method='exact', validate_parameters=1, ...)"
      ]
     },
     "execution_count": 98,
     "metadata": {},
     "output_type": "execute_result"
    }
   ],
   "source": [
    "import xgboost as XGB\n",
    "\n",
    "the_model = XGB.XGBRegressor(colsample_bytree=0.4603, gamma=0.0468, \n",
    "                             learning_rate=0.01, max_depth=3, \n",
    "                             min_child_weight=1.7817, n_estimators=3000,\n",
    "                             reg_alpha=0.4640, reg_lambda=0.8571,\n",
    "                             subsample=0.5213, random_state =7, nthread = -1,\n",
    "                             eval_set=[(X_valid, y_valid)], verbose=False,\n",
    "                             early_stopping_rounds=5)\n",
    "the_model.fit(X_train, y_train)"
   ]
  },
  {
   "cell_type": "code",
   "execution_count": 99,
   "metadata": {},
   "outputs": [],
   "source": [
    "y_predict = np.floor(np.expm1(the_model.predict(test_df)))\n"
   ]
  },
  {
   "cell_type": "code",
   "execution_count": 100,
   "metadata": {},
   "outputs": [],
   "source": [
    "sub = pd.DataFrame()\n",
    "sub['Id'] = pred_example.Id\n",
    "sub['SalePrice'] = y_predict\n",
    "sub.to_csv('../out/mysubmission6.csv',index=False)\n",
    "sub = sub.set_index('Id')"
   ]
  },
  {
   "cell_type": "code",
   "execution_count": 101,
   "metadata": {},
   "outputs": [
    {
     "data": {
      "text/html": [
       "<div>\n",
       "<style scoped>\n",
       "    .dataframe tbody tr th:only-of-type {\n",
       "        vertical-align: middle;\n",
       "    }\n",
       "\n",
       "    .dataframe tbody tr th {\n",
       "        vertical-align: top;\n",
       "    }\n",
       "\n",
       "    .dataframe thead th {\n",
       "        text-align: right;\n",
       "    }\n",
       "</style>\n",
       "<table border=\"1\" class=\"dataframe\">\n",
       "  <thead>\n",
       "    <tr style=\"text-align: right;\">\n",
       "      <th></th>\n",
       "      <th>SalePrice</th>\n",
       "    </tr>\n",
       "    <tr>\n",
       "      <th>Id</th>\n",
       "      <th></th>\n",
       "    </tr>\n",
       "  </thead>\n",
       "  <tbody>\n",
       "    <tr>\n",
       "      <th>1461</th>\n",
       "      <td>124009.0</td>\n",
       "    </tr>\n",
       "    <tr>\n",
       "      <th>1462</th>\n",
       "      <td>161149.0</td>\n",
       "    </tr>\n",
       "    <tr>\n",
       "      <th>1463</th>\n",
       "      <td>182254.0</td>\n",
       "    </tr>\n",
       "    <tr>\n",
       "      <th>1464</th>\n",
       "      <td>189969.0</td>\n",
       "    </tr>\n",
       "    <tr>\n",
       "      <th>1465</th>\n",
       "      <td>192938.0</td>\n",
       "    </tr>\n",
       "  </tbody>\n",
       "</table>\n",
       "</div>"
      ],
      "text/plain": [
       "      SalePrice\n",
       "Id             \n",
       "1461   124009.0\n",
       "1462   161149.0\n",
       "1463   182254.0\n",
       "1464   189969.0\n",
       "1465   192938.0"
      ]
     },
     "execution_count": 101,
     "metadata": {},
     "output_type": "execute_result"
    }
   ],
   "source": [
    "sub.head()"
   ]
  },
  {
   "cell_type": "code",
   "execution_count": 82,
   "metadata": {},
   "outputs": [
    {
     "name": "stderr",
     "output_type": "stream",
     "text": [
      "c:\\Users\\daniel\\Desktop\\practica\\Advanced_Regression_Techniques\\renv\\lib\\site-packages\\sklearn\\utils\\validation.py:1675: FutureWarning: Feature names only support names that are all strings. Got feature names with dtypes: ['int', 'str']. An error will be raised in 1.2.\n",
      "  warnings.warn(\n"
     ]
    },
    {
     "name": "stdout",
     "output_type": "stream",
     "text": [
      "Iteration 1, loss = 1871.08774481\n",
      "Iteration 2, loss = 74.41649992\n",
      "Iteration 3, loss = 21.85355738\n",
      "Iteration 4, loss = 9.64653208\n",
      "Iteration 5, loss = 4.99194223\n",
      "Iteration 6, loss = 2.09621942\n",
      "Iteration 7, loss = 1.27952006\n",
      "Iteration 8, loss = 0.63993198\n",
      "Iteration 9, loss = 0.46749957\n",
      "Iteration 10, loss = 0.31470204\n",
      "Iteration 11, loss = 0.28703911\n",
      "Iteration 12, loss = 0.27679930\n",
      "Iteration 13, loss = 0.17075251\n",
      "Iteration 14, loss = 0.15098892\n",
      "Iteration 15, loss = 0.13990893\n",
      "Iteration 16, loss = 0.12477852\n",
      "Iteration 17, loss = 0.17255184\n",
      "Iteration 18, loss = 0.16656872\n",
      "Iteration 19, loss = 0.13395276\n",
      "Iteration 20, loss = 0.09065124\n",
      "Iteration 21, loss = 0.08492171\n",
      "Iteration 22, loss = 0.13575938\n",
      "Iteration 23, loss = 0.79718374\n",
      "Iteration 24, loss = 0.41206351\n",
      "Iteration 25, loss = 0.18698757\n",
      "Iteration 26, loss = 0.12734291\n",
      "Iteration 27, loss = 0.11445288\n",
      "Iteration 28, loss = 0.09026174\n",
      "Iteration 29, loss = 0.07492513\n",
      "Iteration 30, loss = 0.07978851\n",
      "Iteration 31, loss = 0.12238269\n",
      "Iteration 32, loss = 0.12120099\n",
      "Iteration 33, loss = 0.16132992\n",
      "Iteration 34, loss = 0.15327551\n",
      "Iteration 35, loss = 0.06467437\n",
      "Iteration 36, loss = 0.06413734\n",
      "Iteration 37, loss = 0.06475330\n",
      "Iteration 38, loss = 0.10379082\n",
      "Iteration 39, loss = 3.99359534\n",
      "Iteration 40, loss = 2.40447498\n",
      "Iteration 41, loss = 0.94769561\n",
      "Iteration 42, loss = 0.39677822\n",
      "Iteration 43, loss = 0.24512219\n",
      "Iteration 44, loss = 0.16731311\n",
      "Iteration 45, loss = 0.12854911\n",
      "Iteration 46, loss = 0.05185172\n",
      "Iteration 47, loss = 0.03696013\n",
      "Iteration 48, loss = 0.03911000\n",
      "Iteration 49, loss = 0.08070522\n",
      "Iteration 50, loss = 0.04953868\n",
      "Iteration 51, loss = 0.05337784\n",
      "Iteration 52, loss = 0.05347789\n",
      "Iteration 53, loss = 0.04448221\n",
      "Iteration 54, loss = 0.04511580\n",
      "Iteration 55, loss = 0.13290104\n",
      "Iteration 56, loss = 0.06399942\n",
      "Iteration 57, loss = 0.06582186\n",
      "Iteration 58, loss = 0.11610266\n",
      "Training loss did not improve more than tol=0.000100 for 10 consecutive epochs. Stopping.\n"
     ]
    },
    {
     "name": "stderr",
     "output_type": "stream",
     "text": [
      "c:\\Users\\daniel\\Desktop\\practica\\Advanced_Regression_Techniques\\renv\\lib\\site-packages\\sklearn\\utils\\validation.py:1675: FutureWarning: Feature names only support names that are all strings. Got feature names with dtypes: ['int', 'str']. An error will be raised in 1.2.\n",
      "  warnings.warn(\n"
     ]
    }
   ],
   "source": [
    "from sklearn.neural_network import MLPRegressor\n",
    "nn = MLPRegressor(hidden_layer_sizes=(338, 338, 50), \n",
    "                  activation='relu', solver='adam', max_iter = 100, random_state = 56, verbose = True)\n",
    "nn.fit(feature, y)\n",
    "nn_predictions = nn.predict(test_df)"
   ]
  },
  {
   "cell_type": "code",
   "execution_count": 83,
   "metadata": {},
   "outputs": [],
   "source": [
    "y_predict2 = np.expm1(nn_predictions)"
   ]
  },
  {
   "cell_type": "code",
   "execution_count": 85,
   "metadata": {},
   "outputs": [
    {
     "data": {
      "text/html": [
       "<div>\n",
       "<style scoped>\n",
       "    .dataframe tbody tr th:only-of-type {\n",
       "        vertical-align: middle;\n",
       "    }\n",
       "\n",
       "    .dataframe tbody tr th {\n",
       "        vertical-align: top;\n",
       "    }\n",
       "\n",
       "    .dataframe thead th {\n",
       "        text-align: right;\n",
       "    }\n",
       "</style>\n",
       "<table border=\"1\" class=\"dataframe\">\n",
       "  <thead>\n",
       "    <tr style=\"text-align: right;\">\n",
       "      <th></th>\n",
       "      <th>SalePrice</th>\n",
       "    </tr>\n",
       "    <tr>\n",
       "      <th>Id</th>\n",
       "      <th></th>\n",
       "    </tr>\n",
       "  </thead>\n",
       "  <tbody>\n",
       "    <tr>\n",
       "      <th>1461</th>\n",
       "      <td>124275.415970</td>\n",
       "    </tr>\n",
       "    <tr>\n",
       "      <th>1462</th>\n",
       "      <td>114164.333259</td>\n",
       "    </tr>\n",
       "    <tr>\n",
       "      <th>1463</th>\n",
       "      <td>212044.704943</td>\n",
       "    </tr>\n",
       "    <tr>\n",
       "      <th>1464</th>\n",
       "      <td>209025.222462</td>\n",
       "    </tr>\n",
       "    <tr>\n",
       "      <th>1465</th>\n",
       "      <td>194878.253935</td>\n",
       "    </tr>\n",
       "  </tbody>\n",
       "</table>\n",
       "</div>"
      ],
      "text/plain": [
       "          SalePrice\n",
       "Id                 \n",
       "1461  124275.415970\n",
       "1462  114164.333259\n",
       "1463  212044.704943\n",
       "1464  209025.222462\n",
       "1465  194878.253935"
      ]
     },
     "execution_count": 85,
     "metadata": {},
     "output_type": "execute_result"
    }
   ],
   "source": [
    "sub = pd.DataFrame()\n",
    "sub['Id'] = pred_example.Id\n",
    "sub['SalePrice'] = y_predict2\n",
    "sub.to_csv('../out/mysubmission5.csv',index=False)\n",
    "sub = sub.set_index('Id')\n",
    "sub.head()"
   ]
  },
  {
   "cell_type": "code",
   "execution_count": null,
   "metadata": {},
   "outputs": [],
   "source": []
  },
  {
   "cell_type": "code",
   "execution_count": null,
   "metadata": {},
   "outputs": [],
   "source": []
  },
  {
   "cell_type": "code",
   "execution_count": null,
   "metadata": {},
   "outputs": [],
   "source": []
  },
  {
   "cell_type": "code",
   "execution_count": null,
   "metadata": {},
   "outputs": [],
   "source": []
  },
  {
   "cell_type": "code",
   "execution_count": null,
   "metadata": {},
   "outputs": [],
   "source": []
  },
  {
   "cell_type": "code",
   "execution_count": null,
   "metadata": {},
   "outputs": [],
   "source": []
  }
 ],
 "metadata": {
  "interpreter": {
   "hash": "9d1a0b3ba6560b31dd90a4016c7f41c1485500f8bcb36555c908d89fad0439e7"
  },
  "kernelspec": {
   "display_name": "Python 3.9.7 64-bit ('renv': venv)",
   "language": "python",
   "name": "python3"
  },
  "language_info": {
   "codemirror_mode": {
    "name": "ipython",
    "version": 3
   },
   "file_extension": ".py",
   "mimetype": "text/x-python",
   "name": "python",
   "nbconvert_exporter": "python",
   "pygments_lexer": "ipython3",
   "version": "3.9.7"
  },
  "orig_nbformat": 4
 },
 "nbformat": 4,
 "nbformat_minor": 2
}
